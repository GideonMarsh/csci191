{
 "cells": [
  {
   "cell_type": "markdown",
   "metadata": {},
   "source": [
    "# HW 3: MNIST Dataset"
   ]
  },
  {
   "cell_type": "code",
   "execution_count": 172,
   "metadata": {},
   "outputs": [],
   "source": [
    "# Copy-pasted cell to get everything set up nicely\n",
    "\n",
    "# To support both python 2 and python 3\n",
    "from __future__ import division, print_function, unicode_literals\n",
    "\n",
    "# Common imports\n",
    "import numpy as np\n",
    "import os\n",
    "\n",
    "# to make this notebook's output stable across runs\n",
    "np.random.seed(42)\n",
    "\n",
    "# To plot pretty figures\n",
    "%matplotlib inline\n",
    "import matplotlib\n",
    "import matplotlib.pyplot as plt\n",
    "\n",
    "import pandas as pd"
   ]
  },
  {
   "cell_type": "code",
   "execution_count": 173,
   "metadata": {},
   "outputs": [
    {
     "data": {
      "text/html": [
       "<div>\n",
       "<style scoped>\n",
       "    .dataframe tbody tr th:only-of-type {\n",
       "        vertical-align: middle;\n",
       "    }\n",
       "\n",
       "    .dataframe tbody tr th {\n",
       "        vertical-align: top;\n",
       "    }\n",
       "\n",
       "    .dataframe thead th {\n",
       "        text-align: right;\n",
       "    }\n",
       "</style>\n",
       "<table border=\"1\" class=\"dataframe\">\n",
       "  <thead>\n",
       "    <tr style=\"text-align: right;\">\n",
       "      <th></th>\n",
       "      <th>label</th>\n",
       "      <th>pixel0</th>\n",
       "      <th>pixel1</th>\n",
       "      <th>pixel2</th>\n",
       "      <th>pixel3</th>\n",
       "      <th>pixel4</th>\n",
       "      <th>pixel5</th>\n",
       "      <th>pixel6</th>\n",
       "      <th>pixel7</th>\n",
       "      <th>pixel8</th>\n",
       "      <th>...</th>\n",
       "      <th>pixel774</th>\n",
       "      <th>pixel775</th>\n",
       "      <th>pixel776</th>\n",
       "      <th>pixel777</th>\n",
       "      <th>pixel778</th>\n",
       "      <th>pixel779</th>\n",
       "      <th>pixel780</th>\n",
       "      <th>pixel781</th>\n",
       "      <th>pixel782</th>\n",
       "      <th>pixel783</th>\n",
       "    </tr>\n",
       "  </thead>\n",
       "  <tbody>\n",
       "    <tr>\n",
       "      <th>0</th>\n",
       "      <td>1</td>\n",
       "      <td>0</td>\n",
       "      <td>0</td>\n",
       "      <td>0</td>\n",
       "      <td>0</td>\n",
       "      <td>0</td>\n",
       "      <td>0</td>\n",
       "      <td>0</td>\n",
       "      <td>0</td>\n",
       "      <td>0</td>\n",
       "      <td>...</td>\n",
       "      <td>0</td>\n",
       "      <td>0</td>\n",
       "      <td>0</td>\n",
       "      <td>0</td>\n",
       "      <td>0</td>\n",
       "      <td>0</td>\n",
       "      <td>0</td>\n",
       "      <td>0</td>\n",
       "      <td>0</td>\n",
       "      <td>0</td>\n",
       "    </tr>\n",
       "    <tr>\n",
       "      <th>1</th>\n",
       "      <td>0</td>\n",
       "      <td>0</td>\n",
       "      <td>0</td>\n",
       "      <td>0</td>\n",
       "      <td>0</td>\n",
       "      <td>0</td>\n",
       "      <td>0</td>\n",
       "      <td>0</td>\n",
       "      <td>0</td>\n",
       "      <td>0</td>\n",
       "      <td>...</td>\n",
       "      <td>0</td>\n",
       "      <td>0</td>\n",
       "      <td>0</td>\n",
       "      <td>0</td>\n",
       "      <td>0</td>\n",
       "      <td>0</td>\n",
       "      <td>0</td>\n",
       "      <td>0</td>\n",
       "      <td>0</td>\n",
       "      <td>0</td>\n",
       "    </tr>\n",
       "    <tr>\n",
       "      <th>2</th>\n",
       "      <td>1</td>\n",
       "      <td>0</td>\n",
       "      <td>0</td>\n",
       "      <td>0</td>\n",
       "      <td>0</td>\n",
       "      <td>0</td>\n",
       "      <td>0</td>\n",
       "      <td>0</td>\n",
       "      <td>0</td>\n",
       "      <td>0</td>\n",
       "      <td>...</td>\n",
       "      <td>0</td>\n",
       "      <td>0</td>\n",
       "      <td>0</td>\n",
       "      <td>0</td>\n",
       "      <td>0</td>\n",
       "      <td>0</td>\n",
       "      <td>0</td>\n",
       "      <td>0</td>\n",
       "      <td>0</td>\n",
       "      <td>0</td>\n",
       "    </tr>\n",
       "    <tr>\n",
       "      <th>3</th>\n",
       "      <td>4</td>\n",
       "      <td>0</td>\n",
       "      <td>0</td>\n",
       "      <td>0</td>\n",
       "      <td>0</td>\n",
       "      <td>0</td>\n",
       "      <td>0</td>\n",
       "      <td>0</td>\n",
       "      <td>0</td>\n",
       "      <td>0</td>\n",
       "      <td>...</td>\n",
       "      <td>0</td>\n",
       "      <td>0</td>\n",
       "      <td>0</td>\n",
       "      <td>0</td>\n",
       "      <td>0</td>\n",
       "      <td>0</td>\n",
       "      <td>0</td>\n",
       "      <td>0</td>\n",
       "      <td>0</td>\n",
       "      <td>0</td>\n",
       "    </tr>\n",
       "    <tr>\n",
       "      <th>4</th>\n",
       "      <td>0</td>\n",
       "      <td>0</td>\n",
       "      <td>0</td>\n",
       "      <td>0</td>\n",
       "      <td>0</td>\n",
       "      <td>0</td>\n",
       "      <td>0</td>\n",
       "      <td>0</td>\n",
       "      <td>0</td>\n",
       "      <td>0</td>\n",
       "      <td>...</td>\n",
       "      <td>0</td>\n",
       "      <td>0</td>\n",
       "      <td>0</td>\n",
       "      <td>0</td>\n",
       "      <td>0</td>\n",
       "      <td>0</td>\n",
       "      <td>0</td>\n",
       "      <td>0</td>\n",
       "      <td>0</td>\n",
       "      <td>0</td>\n",
       "    </tr>\n",
       "  </tbody>\n",
       "</table>\n",
       "<p>5 rows × 785 columns</p>\n",
       "</div>"
      ],
      "text/plain": [
       "   label  pixel0  pixel1  pixel2  pixel3  pixel4  pixel5  pixel6  pixel7  \\\n",
       "0      1       0       0       0       0       0       0       0       0   \n",
       "1      0       0       0       0       0       0       0       0       0   \n",
       "2      1       0       0       0       0       0       0       0       0   \n",
       "3      4       0       0       0       0       0       0       0       0   \n",
       "4      0       0       0       0       0       0       0       0       0   \n",
       "\n",
       "   pixel8    ...     pixel774  pixel775  pixel776  pixel777  pixel778  \\\n",
       "0       0    ...            0         0         0         0         0   \n",
       "1       0    ...            0         0         0         0         0   \n",
       "2       0    ...            0         0         0         0         0   \n",
       "3       0    ...            0         0         0         0         0   \n",
       "4       0    ...            0         0         0         0         0   \n",
       "\n",
       "   pixel779  pixel780  pixel781  pixel782  pixel783  \n",
       "0         0         0         0         0         0  \n",
       "1         0         0         0         0         0  \n",
       "2         0         0         0         0         0  \n",
       "3         0         0         0         0         0  \n",
       "4         0         0         0         0         0  \n",
       "\n",
       "[5 rows x 785 columns]"
      ]
     },
     "execution_count": 173,
     "metadata": {},
     "output_type": "execute_result"
    }
   ],
   "source": [
    "# import the datasets\n",
    "\n",
    "mnist= pd.read_csv('datasets/digit-recognizer/train.csv')\n",
    "test_data = pd.read_csv('datasets/digit-recognizer/test.csv')\n",
    "\n",
    "mnist.head()"
   ]
  },
  {
   "cell_type": "markdown",
   "metadata": {},
   "source": [
    "### I'll be loosely following the Deep Learning tutorial on kaggle"
   ]
  },
  {
   "cell_type": "code",
   "execution_count": 174,
   "metadata": {},
   "outputs": [],
   "source": [
    "# Necessary imports\n",
    "\n",
    "from sklearn.model_selection import train_test_split\n",
    "from tensorflow.python import keras\n",
    "from tensorflow.python.keras.models import Sequential\n",
    "from tensorflow.python.keras.layers import Dense, Flatten, Conv2D, Dropout"
   ]
  },
  {
   "cell_type": "code",
   "execution_count": 175,
   "metadata": {},
   "outputs": [],
   "source": [
    "img_rows, img_cols = 28, 28\n",
    "num_classes = 10\n",
    "\n",
    "# function that preps the data to be used as a model\n",
    "def data_prep(raw):\n",
    "    #out_y = keras.utils.to_categorical(raw.label, num_classes)\n",
    "    out_y = raw.label\n",
    "\n",
    "    num_images = raw.shape[0]\n",
    "    x_as_array = raw.values[:,1:]\n",
    "    x_shaped_array = x_as_array.reshape(num_images, img_rows, img_cols, 1)\n",
    "    out_x = x_shaped_array / 255\n",
    "    return out_x, out_y\n",
    "\n",
    "# Prep the data\n",
    "x, y = data_prep(mnist)"
   ]
  },
  {
   "cell_type": "code",
   "execution_count": 176,
   "metadata": {},
   "outputs": [
    {
     "name": "stdout",
     "output_type": "stream",
     "text": [
      "1\n"
     ]
    },
    {
     "data": {
      "image/png": "[encoded data removed]",
      "text/plain": [
       "<Figure size 432x288 with 1 Axes>"
      ]
     },
     "metadata": {
      "needs_background": "light"
     },
     "output_type": "display_data"
    }
   ],
   "source": [
    "# displaying some of the numbers\n",
    "\n",
    "def show_num(num):\n",
    "    numPix = mnist.iloc[num, 1:]\n",
    "    numPix = numPix.values.reshape((28,28))\n",
    "    plt.imshow(numPix, cmap='Greys')\n",
    "\n",
    "show_num(0)\n",
    "print(mnist.iloc[0, 0])"
   ]
  },
  {
   "cell_type": "code",
   "execution_count": 177,
   "metadata": {},
   "outputs": [
    {
     "name": "stdout",
     "output_type": "stream",
     "text": [
      "7\n"
     ]
    },
    {
     "data": {
      "image/png": "[encoded data removed]",
      "text/plain": [
       "<Figure size 432x288 with 1 Axes>"
      ]
     },
     "metadata": {
      "needs_background": "light"
     },
     "output_type": "display_data"
    }
   ],
   "source": [
    "show_num(668)\n",
    "print(mnist.iloc[668, 0])"
   ]
  },
  {
   "cell_type": "code",
   "execution_count": 178,
   "metadata": {},
   "outputs": [
    {
     "name": "stdout",
     "output_type": "stream",
     "text": [
      "4\n"
     ]
    },
    {
     "data": {
      "image/png": "[encoded data removed]",
      "text/plain": [
       "<Figure size 432x288 with 1 Axes>"
      ]
     },
     "metadata": {
      "needs_background": "light"
     },
     "output_type": "display_data"
    }
   ],
   "source": [
    "show_num(2010)\n",
    "print(mnist.iloc[2010, 0])"
   ]
  },
  {
   "cell_type": "code",
   "execution_count": 179,
   "metadata": {},
   "outputs": [],
   "source": [
    "# Create our model\n",
    "model = Sequential()"
   ]
  },
  {
   "cell_type": "code",
   "execution_count": 180,
   "metadata": {},
   "outputs": [],
   "source": [
    "# add the first layer to the model\n",
    "model.add(Conv2D(20, kernel_size=3,\n",
    "                 activation='relu',\n",
    "                 input_shape=(img_rows, img_cols, 1)))\n",
    "\n",
    "# add the remaining layers\n",
    "model.add(Conv2D(20, kernel_size=3, activation='relu'))\n",
    "model.add(Flatten())\n",
    "model.add(Dense(128, activation='relu'))\n",
    "\n",
    "# add prediction layer\n",
    "model.add(Dense(num_classes, activation='softmax'))"
   ]
  },
  {
   "cell_type": "code",
   "execution_count": 181,
   "metadata": {},
   "outputs": [],
   "source": [
    "# compile the model\n",
    "model.compile(loss='sparse_categorical_crossentropy', optimizer='adam', metrics=['accuracy'])"
   ]
  },
  {
   "cell_type": "code",
   "execution_count": 182,
   "metadata": {},
   "outputs": [
    {
     "name": "stdout",
     "output_type": "stream",
     "text": [
      "Train on 33600 samples, validate on 8400 samples\n",
      "Epoch 1/2\n",
      "33600/33600 [==============================] - 64s 2ms/sample - loss: 0.2245 - acc: 0.9332 - val_loss: 0.0859 - val_acc: 0.9720\n",
      "Epoch 2/2\n",
      "33600/33600 [==============================] - 63s 2ms/sample - loss: 0.0595 - acc: 0.9823 - val_loss: 0.0693 - val_acc: 0.9788\n"
     ]
    },
    {
     "data": {
      "text/plain": [
       "<tensorflow.python.keras.callbacks.History at 0x1ba0ce5ec18>"
      ]
     },
     "execution_count": 182,
     "metadata": {},
     "output_type": "execute_result"
    }
   ],
   "source": [
    "# fit the model\n",
    "model.fit(x, y, batch_size=128, epochs=2, validation_split = 0.2)"
   ]
  },
  {
   "cell_type": "markdown",
   "metadata": {},
   "source": [
    "Now that we've fit the model, we can see the validation accuracy (val_acc) after each epoch. Our model has an accuracy of .9802, or about 98%.\n",
    "\n",
    "Now let's predict the values of the test data"
   ]
  },
  {
   "cell_type": "code",
   "execution_count": 183,
   "metadata": {},
   "outputs": [
    {
     "name": "stdout",
     "output_type": "stream",
     "text": [
      "2\n"
     ]
    },
    {
     "data": {
      "text/plain": [
       "<matplotlib.image.AxesImage at 0x1ba2b377080>"
      ]
     },
     "execution_count": 183,
     "metadata": {},
     "output_type": "execute_result"
    },
    {
     "data": {
      "image/png": "[encoded data removed]",
      "text/plain": [
       "<Figure size 432x288 with 1 Axes>"
      ]
     },
     "metadata": {
      "needs_background": "light"
     },
     "output_type": "display_data"
    }
   ],
   "source": [
    "# make a prediction for one entry in test data\n",
    "myNum = 27999\n",
    "\n",
    "pred = model.predict(test_data.iloc[myNum, 0:784].values.reshape(1, img_rows, img_cols, 1))\n",
    "print(pred.argmax())\n",
    "\n",
    "# display that entry\n",
    "numPix = test_data.iloc[myNum, 0:784]\n",
    "numPix = numPix.values.reshape((28,28))\n",
    "plt.imshow(numPix, cmap='Greys')"
   ]
  },
  {
   "cell_type": "markdown",
   "metadata": {},
   "source": [
    "We predicted a 3 for the above image. Looks like we were right!\n",
    "\n",
    "Now we make predictions for all of the data, and format it for submission."
   ]
  },
  {
   "cell_type": "code",
   "execution_count": 186,
   "metadata": {},
   "outputs": [],
   "source": [
    "test_data['Label'] = 0;\n",
    "test_data['ImageId'] = 0;\n",
    "\n",
    "for i in range(test_data.shape[0]):\n",
    "    preds = model.predict(test_data.iloc[i, 0:784].values.reshape(1, img_rows, img_cols, 1))\n",
    "    test_data['Label'][i] = preds.argmax()\n",
    "    test_data['ImageId'][i] = i + 1"
   ]
  },
  {
   "cell_type": "code",
   "execution_count": 187,
   "metadata": {},
   "outputs": [
    {
     "name": "stdout",
     "output_type": "stream",
     "text": [
      "       pixel0  pixel1  pixel2  pixel3  pixel4  pixel5  pixel6  pixel7  pixel8  \\\n",
      "0           0       0       0       0       0       0       0       0       0   \n",
      "1           0       0       0       0       0       0       0       0       0   \n",
      "2           0       0       0       0       0       0       0       0       0   \n",
      "3           0       0       0       0       0       0       0       0       0   \n",
      "4           0       0       0       0       0       0       0       0       0   \n",
      "5           0       0       0       0       0       0       0       0       0   \n",
      "6           0       0       0       0       0       0       0       0       0   \n",
      "7           0       0       0       0       0       0       0       0       0   \n",
      "8           0       0       0       0       0       0       0       0       0   \n",
      "9           0       0       0       0       0       0       0       0       0   \n",
      "10          0       0       0       0       0       0       0       0       0   \n",
      "11          0       0       0       0       0       0       0       0       0   \n",
      "12          0       0       0       0       0       0       0       0       0   \n",
      "13          0       0       0       0       0       0       0       0       0   \n",
      "14          0       0       0       0       0       0       0       0       0   \n",
      "15          0       0       0       0       0       0       0       0       0   \n",
      "16          0       0       0       0       0       0       0       0       0   \n",
      "17          0       0       0       0       0       0       0       0       0   \n",
      "18          0       0       0       0       0       0       0       0       0   \n",
      "19          0       0       0       0       0       0       0       0       0   \n",
      "20          0       0       0       0       0       0       0       0       0   \n",
      "21          0       0       0       0       0       0       0       0       0   \n",
      "22          0       0       0       0       0       0       0       0       0   \n",
      "23          0       0       0       0       0       0       0       0       0   \n",
      "24          0       0       0       0       0       0       0       0       0   \n",
      "25          0       0       0       0       0       0       0       0       0   \n",
      "26          0       0       0       0       0       0       0       0       0   \n",
      "27          0       0       0       0       0       0       0       0       0   \n",
      "28          0       0       0       0       0       0       0       0       0   \n",
      "29          0       0       0       0       0       0       0       0       0   \n",
      "...       ...     ...     ...     ...     ...     ...     ...     ...     ...   \n",
      "27970       0       0       0       0       0       0       0       0       0   \n",
      "27971       0       0       0       0       0       0       0       0       0   \n",
      "27972       0       0       0       0       0       0       0       0       0   \n",
      "27973       0       0       0       0       0       0       0       0       0   \n",
      "27974       0       0       0       0       0       0       0       0       0   \n",
      "27975       0       0       0       0       0       0       0       0       0   \n",
      "27976       0       0       0       0       0       0       0       0       0   \n",
      "27977       0       0       0       0       0       0       0       0       0   \n",
      "27978       0       0       0       0       0       0       0       0       0   \n",
      "27979       0       0       0       0       0       0       0       0       0   \n",
      "27980       0       0       0       0       0       0       0       0       0   \n",
      "27981       0       0       0       0       0       0       0       0       0   \n",
      "27982       0       0       0       0       0       0       0       0       0   \n",
      "27983       0       0       0       0       0       0       0       0       0   \n",
      "27984       0       0       0       0       0       0       0       0       0   \n",
      "27985       0       0       0       0       0       0       0       0       0   \n",
      "27986       0       0       0       0       0       0       0       0       0   \n",
      "27987       0       0       0       0       0       0       0       0       0   \n",
      "27988       0       0       0       0       0       0       0       0       0   \n",
      "27989       0       0       0       0       0       0       0       0       0   \n",
      "27990       0       0       0       0       0       0       0       0       0   \n",
      "27991       0       0       0       0       0       0       0       0       0   \n",
      "27992       0       0       0       0       0       0       0       0       0   \n",
      "27993       0       0       0       0       0       0       0       0       0   \n",
      "27994       0       0       0       0       0       0       0       0       0   \n",
      "27995       0       0       0       0       0       0       0       0       0   \n",
      "27996       0       0       0       0       0       0       0       0       0   \n",
      "27997       0       0       0       0       0       0       0       0       0   \n",
      "27998       0       0       0       0       0       0       0       0       0   \n",
      "27999       0       0       0       0       0       0       0       0       0   \n",
      "\n",
      "       pixel9   ...     pixel776  pixel777  pixel778  pixel779  pixel780  \\\n",
      "0           0   ...            0         0         0         0         0   \n",
      "1           0   ...            0         0         0         0         0   \n",
      "2           0   ...            0         0         0         0         0   \n",
      "3           0   ...            0         0         0         0         0   \n",
      "4           0   ...            0         0         0         0         0   \n",
      "5           0   ...            0         0         0         0         0   \n",
      "6           0   ...            0         0         0         0         0   \n",
      "7           0   ...            0         0         0         0         0   \n",
      "8           0   ...            0         0         0         0         0   \n",
      "9           0   ...            0         0         0         0         0   \n",
      "10          0   ...            0         0         0         0         0   \n",
      "11          0   ...            0         0         0         0         0   \n",
      "12          0   ...            0         0         0         0         0   \n",
      "13          0   ...            0         0         0         0         0   \n",
      "14          0   ...            0         0         0         0         0   \n",
      "15          0   ...            0         0         0         0         0   \n",
      "16          0   ...            0         0         0         0         0   \n",
      "17          0   ...            0         0         0         0         0   \n",
      "18          0   ...            0         0         0         0         0   \n",
      "19          0   ...            0         0         0         0         0   \n",
      "20          0   ...            0         0         0         0         0   \n",
      "21          0   ...            0         0         0         0         0   \n",
      "22          0   ...            0         0         0         0         0   \n",
      "23          0   ...            0         0         0         0         0   \n",
      "24          0   ...            0         0         0         0         0   \n",
      "25          0   ...            0         0         0         0         0   \n",
      "26          0   ...            0         0         0         0         0   \n",
      "27          0   ...            0         0         0         0         0   \n",
      "28          0   ...            0         0         0         0         0   \n",
      "29          0   ...            0         0         0         0         0   \n",
      "...       ...   ...          ...       ...       ...       ...       ...   \n",
      "27970       0   ...            0         0         0         0         0   \n",
      "27971       0   ...            0         0         0         0         0   \n",
      "27972       0   ...            0         0         0         0         0   \n",
      "27973       0   ...            0         0         0         0         0   \n",
      "27974       0   ...            0         0         0         0         0   \n",
      "27975       0   ...            0         0         0         0         0   \n",
      "27976       0   ...            0         0         0         0         0   \n",
      "27977       0   ...            0         0         0         0         0   \n",
      "27978       0   ...            0         0         0         0         0   \n",
      "27979       0   ...            0         0         0         0         0   \n",
      "27980       0   ...            0         0         0         0         0   \n",
      "27981       0   ...            0         0         0         0         0   \n",
      "27982       0   ...            0         0         0         0         0   \n",
      "27983       0   ...            0         0         0         0         0   \n",
      "27984       0   ...            0         0         0         0         0   \n",
      "27985       0   ...            0         0         0         0         0   \n",
      "27986       0   ...            0         0         0         0         0   \n",
      "27987       0   ...            0         0         0         0         0   \n",
      "27988       0   ...            0         0         0         0         0   \n",
      "27989       0   ...            0         0         0         0         0   \n",
      "27990       0   ...            0         0         0         0         0   \n",
      "27991       0   ...            0         0         0         0         0   \n",
      "27992       0   ...            0         0         0         0         0   \n",
      "27993       0   ...            0         0         0         0         0   \n",
      "27994       0   ...            0         0         0         0         0   \n",
      "27995       0   ...            0         0         0         0         0   \n",
      "27996       0   ...            0         0         0         0         0   \n",
      "27997       0   ...            0         0         0         0         0   \n",
      "27998       0   ...            0         0         0         0         0   \n",
      "27999       0   ...            0         0         0         0         0   \n",
      "\n",
      "       pixel781  pixel782  pixel783  Label  ImageId  \n",
      "0             0         0         0      2        1  \n",
      "1             0         0         0      0        2  \n",
      "2             0         0         0      9        3  \n",
      "3             0         0         0      0        4  \n",
      "4             0         0         0      3        5  \n",
      "5             0         0         0      7        6  \n",
      "6             0         0         0      0        7  \n",
      "7             0         0         0      3        8  \n",
      "8             0         0         0      0        9  \n",
      "9             0         0         0      3       10  \n",
      "10            0         0         0      5       11  \n",
      "11            0         0         0      7       12  \n",
      "12            0         0         0      4       13  \n",
      "13            0         0         0      0       14  \n",
      "14            0         0         0      4       15  \n",
      "15            0         0         0      3       16  \n",
      "16            0         0         0      3       17  \n",
      "17            0         0         0      1       18  \n",
      "18            0         0         0      9       19  \n",
      "19            0         0         0      0       20  \n",
      "20            0         0         0      9       21  \n",
      "21            0         0         0      1       22  \n",
      "22            0         0         0      1       23  \n",
      "23            0         0         0      5       24  \n",
      "24            0         0         0      7       25  \n",
      "25            0         0         0      4       26  \n",
      "26            0         0         0      2       27  \n",
      "27            0         0         0      7       28  \n",
      "28            0         0         0      4       29  \n",
      "29            0         0         0      7       30  \n",
      "...         ...       ...       ...    ...      ...  \n",
      "27970         0         0         0      5    27971  \n",
      "27971         0         0         0      0    27972  \n",
      "27972         0         0         0      4    27973  \n",
      "27973         0         0         0      8    27974  \n",
      "27974         0         0         0      0    27975  \n",
      "27975         0         0         0      3    27976  \n",
      "27976         0         0         0      6    27977  \n",
      "27977         0         0         0      0    27978  \n",
      "27978         0         0         0      1    27979  \n",
      "27979         0         0         0      9    27980  \n",
      "27980         0         0         0      3    27981  \n",
      "27981         0         0         0      1    27982  \n",
      "27982         0         0         0      1    27983  \n",
      "27983         0         0         0      0    27984  \n",
      "27984         0         0         0      4    27985  \n",
      "27985         0         0         0      5    27986  \n",
      "27986         0         0         0      2    27987  \n",
      "27987         0         0         0      2    27988  \n",
      "27988         0         0         0      9    27989  \n",
      "27989         0         0         0      6    27990  \n",
      "27990         0         0         0      7    27991  \n",
      "27991         0         0         0      6    27992  \n",
      "27992         0         0         0      1    27993  \n",
      "27993         0         0         0      9    27994  \n",
      "27994         0         0         0      7    27995  \n",
      "27995         0         0         0      9    27996  \n",
      "27996         0         0         0      7    27997  \n",
      "27997         0         0         0      3    27998  \n",
      "27998         0         0         0      9    27999  \n",
      "27999         0         0         0      2    28000  \n",
      "\n",
      "[28000 rows x 786 columns]\n"
     ]
    }
   ],
   "source": [
    "print(test_data)"
   ]
  },
  {
   "cell_type": "code",
   "execution_count": 189,
   "metadata": {},
   "outputs": [],
   "source": [
    "test_data[['ImageId','Label']].to_csv('datasets/digit-recognizer/attempt_1.csv', index=False)"
   ]
  },
  {
   "cell_type": "markdown",
   "metadata": {},
   "source": [
    "## This attempt scored a .97585, which placed me at 1819th on the leaderboard\n",
    "\n",
    "Now I'm going to modify my model a bit and try to get a better score."
   ]
  },
  {
   "cell_type": "code",
   "execution_count": 192,
   "metadata": {},
   "outputs": [],
   "source": [
    "model2 = Sequential()\n",
    "\n",
    "model2.add(Conv2D(28, kernel_size=2,\n",
    "                 activation='relu',\n",
    "                 input_shape=(img_rows, img_cols, 1)))\n",
    "model2.add(Conv2D(20, kernel_size=2, activation='relu'))\n",
    "model2.add(Conv2D(20, kernel_size=2, activation='relu'))\n",
    "model2.add(Flatten())\n",
    "model2.add(Dense(128, activation='relu'))\n",
    "model2.add(Dense(num_classes, activation='softmax'))\n",
    "\n",
    "model2.compile(loss='sparse_categorical_crossentropy', optimizer='adam', metrics=['accuracy'])"
   ]
  },
  {
   "cell_type": "code",
   "execution_count": 193,
   "metadata": {},
   "outputs": [
    {
     "name": "stdout",
     "output_type": "stream",
     "text": [
      "Train on 33600 samples, validate on 8400 samples\n",
      "Epoch 1/4\n",
      "33600/33600 [==============================] - 80s 2ms/sample - loss: 0.2861 - acc: 0.9189 - val_loss: 0.0847 - val_acc: 0.9731\n",
      "Epoch 2/4\n",
      "33600/33600 [==============================] - 79s 2ms/sample - loss: 0.0676 - acc: 0.9789 - val_loss: 0.0675 - val_acc: 0.9786\n",
      "Epoch 3/4\n",
      "33600/33600 [==============================] - 79s 2ms/sample - loss: 0.0375 - acc: 0.9881 - val_loss: 0.0561 - val_acc: 0.9817\n",
      "Epoch 4/4\n",
      "33600/33600 [==============================] - 79s 2ms/sample - loss: 0.0212 - acc: 0.9934 - val_loss: 0.0680 - val_acc: 0.9801\n"
     ]
    },
    {
     "data": {
      "text/plain": [
       "<tensorflow.python.keras.callbacks.History at 0x1ba625839b0>"
      ]
     },
     "execution_count": 193,
     "metadata": {},
     "output_type": "execute_result"
    }
   ],
   "source": [
    "model2.fit(x, y, batch_size=128, epochs=4, validation_split = 0.2)"
   ]
  },
  {
   "cell_type": "code",
   "execution_count": 194,
   "metadata": {},
   "outputs": [],
   "source": [
    "for i in range(test_data.shape[0]):\n",
    "    preds = model2.predict(test_data.iloc[i, 0:784].values.reshape(1, img_rows, img_cols, 1))\n",
    "    test_data['Label'][i] = preds.argmax()"
   ]
  },
  {
   "cell_type": "code",
   "execution_count": 196,
   "metadata": {},
   "outputs": [],
   "source": [
    "test_data[['ImageId','Label']].to_csv('datasets/digit-recognizer/attempt_2.csv', index=False)"
   ]
  },
  {
   "cell_type": "markdown",
   "metadata": {},
   "source": [
    "## This attempt scored a .97600, which placed me at 1812th. I moved up 7 spaces!\n",
    "\n",
    "With some minor modifications to my model, I was able to make a minor improvement on the leaderboard.\n",
    "\n",
    "Fitting and predicting the model is taking increasingly more time. Running the code for my second model took upwards of 5 minutes, even though the code itself was mostly copy/pasted from the first attempt. \n",
    "\n",
    "I'm confident that I could improve my model further given enough time, but I don't have the time to do it before this assignment is due. I'm pleased with the results that I achieved."
   ]
  }
 ],
 "metadata": {
  "kernelspec": {
   "display_name": "Python 3",
   "language": "python",
   "name": "python3"
  },
  "language_info": {
   "codemirror_mode": {
    "name": "ipython",
    "version": 3
   },
   "file_extension": ".py",
   "mimetype": "text/x-python",
   "name": "python",
   "nbconvert_exporter": "python",
   "pygments_lexer": "ipython3",
   "version": "3.7.1"
  }
 },
 "nbformat": 4,
 "nbformat_minor": 2
}
